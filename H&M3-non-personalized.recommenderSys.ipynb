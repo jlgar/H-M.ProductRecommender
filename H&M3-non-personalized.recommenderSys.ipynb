{
 "cells": [
  {
   "cell_type": "code",
   "execution_count": 39,
   "metadata": {},
   "outputs": [],
   "source": [
    "import pandas as pd\n",
    "import seaborn as sns\n",
    "import matplotlib.pyplot as plt"
   ]
  },
  {
   "cell_type": "code",
   "execution_count": 40,
   "metadata": {},
   "outputs": [],
   "source": [
    "customers_path = 'customers.csv'\n",
    "transactionsTrain_path = '/Users/jamester/Documents/MachineLearning/KaggleComps/H&M/transactions_train.csv'\n",
    "articles_path = '/Users/jamester/Documents/MachineLearning/KaggleComps/H&M/articles.csv'"
   ]
  },
  {
   "cell_type": "code",
   "execution_count": 41,
   "metadata": {},
   "outputs": [],
   "source": [
    "customers_df =  pd.read_csv(customers_path)\n",
    "transactions_df = pd.read_csv(transactionsTrain_path)\n",
    "articles_df = pd.read_csv(articles_path)"
   ]
  },
  {
   "cell_type": "markdown",
   "metadata": {},
   "source": [
    "# EDA"
   ]
  },
  {
   "cell_type": "code",
   "execution_count": 42,
   "metadata": {},
   "outputs": [
    {
     "data": {
      "text/html": [
       "<div>\n",
       "<style scoped>\n",
       "    .dataframe tbody tr th:only-of-type {\n",
       "        vertical-align: middle;\n",
       "    }\n",
       "\n",
       "    .dataframe tbody tr th {\n",
       "        vertical-align: top;\n",
       "    }\n",
       "\n",
       "    .dataframe thead th {\n",
       "        text-align: right;\n",
       "    }\n",
       "</style>\n",
       "<table border=\"1\" class=\"dataframe\">\n",
       "  <thead>\n",
       "    <tr style=\"text-align: right;\">\n",
       "      <th></th>\n",
       "      <th>article_id</th>\n",
       "      <th>product_code</th>\n",
       "      <th>prod_name</th>\n",
       "      <th>product_type_no</th>\n",
       "      <th>product_type_name</th>\n",
       "      <th>product_group_name</th>\n",
       "      <th>graphical_appearance_no</th>\n",
       "      <th>graphical_appearance_name</th>\n",
       "      <th>colour_group_code</th>\n",
       "      <th>colour_group_name</th>\n",
       "      <th>...</th>\n",
       "      <th>department_name</th>\n",
       "      <th>index_code</th>\n",
       "      <th>index_name</th>\n",
       "      <th>index_group_no</th>\n",
       "      <th>index_group_name</th>\n",
       "      <th>section_no</th>\n",
       "      <th>section_name</th>\n",
       "      <th>garment_group_no</th>\n",
       "      <th>garment_group_name</th>\n",
       "      <th>detail_desc</th>\n",
       "    </tr>\n",
       "  </thead>\n",
       "  <tbody>\n",
       "    <tr>\n",
       "      <th>0</th>\n",
       "      <td>108775015</td>\n",
       "      <td>108775</td>\n",
       "      <td>Strap top</td>\n",
       "      <td>253</td>\n",
       "      <td>Vest top</td>\n",
       "      <td>Garment Upper body</td>\n",
       "      <td>1010016</td>\n",
       "      <td>Solid</td>\n",
       "      <td>9</td>\n",
       "      <td>Black</td>\n",
       "      <td>...</td>\n",
       "      <td>Jersey Basic</td>\n",
       "      <td>A</td>\n",
       "      <td>Ladieswear</td>\n",
       "      <td>1</td>\n",
       "      <td>Ladieswear</td>\n",
       "      <td>16</td>\n",
       "      <td>Womens Everyday Basics</td>\n",
       "      <td>1002</td>\n",
       "      <td>Jersey Basic</td>\n",
       "      <td>Jersey top with narrow shoulder straps.</td>\n",
       "    </tr>\n",
       "  </tbody>\n",
       "</table>\n",
       "<p>1 rows × 25 columns</p>\n",
       "</div>"
      ],
      "text/plain": [
       "   article_id  product_code  prod_name  product_type_no product_type_name  \\\n",
       "0   108775015        108775  Strap top              253          Vest top   \n",
       "\n",
       "   product_group_name  graphical_appearance_no graphical_appearance_name  \\\n",
       "0  Garment Upper body                  1010016                     Solid   \n",
       "\n",
       "   colour_group_code colour_group_name  ...  department_name index_code  \\\n",
       "0                  9             Black  ...     Jersey Basic          A   \n",
       "\n",
       "   index_name index_group_no  index_group_name section_no  \\\n",
       "0  Ladieswear              1        Ladieswear         16   \n",
       "\n",
       "             section_name garment_group_no  garment_group_name  \\\n",
       "0  Womens Everyday Basics             1002        Jersey Basic   \n",
       "\n",
       "                               detail_desc  \n",
       "0  Jersey top with narrow shoulder straps.  \n",
       "\n",
       "[1 rows x 25 columns]"
      ]
     },
     "execution_count": 42,
     "metadata": {},
     "output_type": "execute_result"
    }
   ],
   "source": [
    "articles_df.head(1)"
   ]
  },
  {
   "cell_type": "markdown",
   "metadata": {},
   "source": [
    "## See sales count by product group, sales by customer - age, zipcode, etc."
   ]
  },
  {
   "cell_type": "code",
   "execution_count": 43,
   "metadata": {},
   "outputs": [],
   "source": [
    "gp_counts = articles_df.product_group_name.value_counts()\n",
    "gp_counts\n",
    "gp_counts2 = gp_counts[gp_counts > 1000]\n",
    "#gp_counts2"
   ]
  },
  {
   "cell_type": "code",
   "execution_count": 46,
   "metadata": {},
   "outputs": [
    {
     "name": "stderr",
     "output_type": "stream",
     "text": [
      "/opt/anaconda3/lib/python3.8/site-packages/seaborn/_decorators.py:36: FutureWarning: Pass the following variable as a keyword arg: x. From version 0.12, the only valid positional argument will be `data`, and passing other arguments without an explicit keyword will result in an error or misinterpretation.\n",
      "  warnings.warn(\n"
     ]
    },
    {
     "data": {
      "image/png": "[encoded data removed]",
      "text/plain": [
       "<Figure size 1008x720 with 1 Axes>"
      ]
     },
     "metadata": {
      "needs_background": "light"
     },
     "output_type": "display_data"
    }
   ],
   "source": [
    "#garment upper body group is very high, maybe break it down more?\n",
    "gp_counts_large = articles_df[articles_df['product_group_name'].isin(gp_counts2.index)]\n",
    "plt.figure(figsize = (14, 10))\n",
    "sns.countplot(gp_counts_large.product_group_name).set(title='Sales by Product');\n",
    "    \n"
   ]
  },
  {
   "cell_type": "code",
   "execution_count": 67,
   "metadata": {},
   "outputs": [],
   "source": [
    "#fill missing detail_desc with prod_name\n",
    "articles_df.detail_desc.fillna(articles_df['prod_name'], inplace=True)"
   ]
  },
  {
   "cell_type": "code",
   "execution_count": 68,
   "metadata": {},
   "outputs": [],
   "source": [
    "cols = ['prod_name', 'product_type_name','colour_group_name', 'detail_desc', 'graphical_appearance_name']\n",
    "articles_df['combined'] = articles_df[cols].astype(str).apply(' '.join, axis=1)"
   ]
  },
  {
   "cell_type": "markdown",
   "metadata": {},
   "source": [
    "custTrans_df.to_csv('custTrans_df.csv')"
   ]
  },
  {
   "cell_type": "code",
   "execution_count": 107,
   "metadata": {},
   "outputs": [
    {
     "data": {
      "text/plain": [
       "<AxesSubplot:>"
      ]
     },
     "execution_count": 107,
     "metadata": {},
     "output_type": "execute_result"
    },
    {
     "data": {
      "image/png": "[encoded data removed]",
      "text/plain": [
       "<Figure size 432x288 with 1 Axes>"
      ]
     },
     "metadata": {
      "needs_background": "light"
     },
     "output_type": "display_data"
    }
   ],
   "source": [
    "customers_df.age.hist()"
   ]
  },
  {
   "cell_type": "code",
   "execution_count": 69,
   "metadata": {},
   "outputs": [],
   "source": [
    "custTrans_df = pd.read_csv('custTrans.csv')"
   ]
  },
  {
   "cell_type": "code",
   "execution_count": 70,
   "metadata": {},
   "outputs": [],
   "source": [
    "custTransSample = custTrans_df.sample(frac=.02)"
   ]
  },
  {
   "cell_type": "code",
   "execution_count": 72,
   "metadata": {},
   "outputs": [
    {
     "data": {
      "text/plain": [
       "706016001    1002\n",
       "706016002     728\n",
       "372860001     638\n",
       "610776002     557\n",
       "759871002     522\n",
       "             ... \n",
       "639784001       1\n",
       "608069028       1\n",
       "641403001       1\n",
       "718076039       1\n",
       "578816001       1\n",
       "Name: article_id, Length: 64985, dtype: int64"
      ]
     },
     "execution_count": 72,
     "metadata": {},
     "output_type": "execute_result"
    }
   ],
   "source": [
    "#cust similar based on both purchasing same item\n",
    "custTransSample.article_id.value_counts()"
   ]
  },
  {
   "cell_type": "code",
   "execution_count": null,
   "metadata": {},
   "outputs": [],
   "source": []
  },
  {
   "cell_type": "code",
   "execution_count": 74,
   "metadata": {},
   "outputs": [],
   "source": [
    "art_by_trans = pd.DataFrame(custTransSample.groupby(['t_dat', 'customer_id'])['article_id'].apply(list))"
   ]
  },
  {
   "cell_type": "code",
   "execution_count": 75,
   "metadata": {},
   "outputs": [
    {
     "data": {
      "text/plain": [
       "599365"
      ]
     },
     "execution_count": 75,
     "metadata": {},
     "output_type": "execute_result"
    }
   ],
   "source": [
    "art_by_trans.size"
   ]
  },
  {
   "cell_type": "code",
   "execution_count": 76,
   "metadata": {},
   "outputs": [
    {
     "data": {
      "text/html": [
       "<div>\n",
       "<style scoped>\n",
       "    .dataframe tbody tr th:only-of-type {\n",
       "        vertical-align: middle;\n",
       "    }\n",
       "\n",
       "    .dataframe tbody tr th {\n",
       "        vertical-align: top;\n",
       "    }\n",
       "\n",
       "    .dataframe thead th {\n",
       "        text-align: right;\n",
       "    }\n",
       "</style>\n",
       "<table border=\"1\" class=\"dataframe\">\n",
       "  <thead>\n",
       "    <tr style=\"text-align: right;\">\n",
       "      <th></th>\n",
       "      <th></th>\n",
       "      <th>article_id</th>\n",
       "    </tr>\n",
       "    <tr>\n",
       "      <th>t_dat</th>\n",
       "      <th>customer_id</th>\n",
       "      <th></th>\n",
       "    </tr>\n",
       "  </thead>\n",
       "  <tbody>\n",
       "    <tr>\n",
       "      <th rowspan=\"5\" valign=\"top\">2018-09-20</th>\n",
       "      <th>000aa7f0dc06cd7174389e76c9e132a67860c5f65f970699daccc14425ac31a8</th>\n",
       "      <td>[676827002]</td>\n",
       "    </tr>\n",
       "    <tr>\n",
       "      <th>01c3653cafdd569ef34e36810d1c1bda71c0d425e568278d0cfe05cfb6604a1a</th>\n",
       "      <td>[630672001]</td>\n",
       "    </tr>\n",
       "    <tr>\n",
       "      <th>01ef5256e6264e9d50b11a08e9cfb2f2291324fedb4140cf7b4ad070548ffd8f</th>\n",
       "      <td>[660497003]</td>\n",
       "    </tr>\n",
       "    <tr>\n",
       "      <th>01f040495565a44cbee048d8a0340fe1ba46243565d634a9a574c69fa4b01ade</th>\n",
       "      <td>[619506001]</td>\n",
       "    </tr>\n",
       "    <tr>\n",
       "      <th>01fbe7968ede05b116c4d878d47ed4fd33db355c4b3311c2967858f059a65dde</th>\n",
       "      <td>[650578001]</td>\n",
       "    </tr>\n",
       "  </tbody>\n",
       "</table>\n",
       "</div>"
      ],
      "text/plain": [
       "                                                                article_id\n",
       "t_dat      customer_id                                                    \n",
       "2018-09-20 000aa7f0dc06cd7174389e76c9e132a67860c5f65f97069...  [676827002]\n",
       "           01c3653cafdd569ef34e36810d1c1bda71c0d425e568278...  [630672001]\n",
       "           01ef5256e6264e9d50b11a08e9cfb2f2291324fedb4140c...  [660497003]\n",
       "           01f040495565a44cbee048d8a0340fe1ba46243565d634a...  [619506001]\n",
       "           01fbe7968ede05b116c4d878d47ed4fd33db355c4b3311c...  [650578001]"
      ]
     },
     "execution_count": 76,
     "metadata": {},
     "output_type": "execute_result"
    }
   ],
   "source": [
    "art_by_trans.head()"
   ]
  },
  {
   "cell_type": "code",
   "execution_count": 77,
   "metadata": {},
   "outputs": [],
   "source": [
    "purchase_amt_by_trans = pd.DataFrame(custTransSample.groupby(['t_dat', 'customer_id'])['price'].sum())"
   ]
  },
  {
   "cell_type": "code",
   "execution_count": 78,
   "metadata": {},
   "outputs": [
    {
     "data": {
      "text/plain": [
       "599365"
      ]
     },
     "execution_count": 78,
     "metadata": {},
     "output_type": "execute_result"
    }
   ],
   "source": [
    "purchase_amt_by_trans.size"
   ]
  },
  {
   "cell_type": "code",
   "execution_count": 79,
   "metadata": {},
   "outputs": [
    {
     "data": {
      "text/plain": [
       "599365"
      ]
     },
     "execution_count": 79,
     "metadata": {},
     "output_type": "execute_result"
    }
   ],
   "source": [
    "len(purchase_amt_by_trans)"
   ]
  },
  {
   "cell_type": "code",
   "execution_count": 80,
   "metadata": {},
   "outputs": [
    {
     "data": {
      "text/plain": [
       "372254"
      ]
     },
     "execution_count": 80,
     "metadata": {},
     "output_type": "execute_result"
    }
   ],
   "source": [
    "purchase_amt_by_trans.reset_index().customer_id.nunique()"
   ]
  },
  {
   "cell_type": "code",
   "execution_count": 81,
   "metadata": {},
   "outputs": [
    {
     "data": {
      "text/html": [
       "<div>\n",
       "<style scoped>\n",
       "    .dataframe tbody tr th:only-of-type {\n",
       "        vertical-align: middle;\n",
       "    }\n",
       "\n",
       "    .dataframe tbody tr th {\n",
       "        vertical-align: top;\n",
       "    }\n",
       "\n",
       "    .dataframe thead th {\n",
       "        text-align: right;\n",
       "    }\n",
       "</style>\n",
       "<table border=\"1\" class=\"dataframe\">\n",
       "  <thead>\n",
       "    <tr style=\"text-align: right;\">\n",
       "      <th></th>\n",
       "      <th></th>\n",
       "      <th>price</th>\n",
       "    </tr>\n",
       "    <tr>\n",
       "      <th>t_dat</th>\n",
       "      <th>customer_id</th>\n",
       "      <th></th>\n",
       "    </tr>\n",
       "  </thead>\n",
       "  <tbody>\n",
       "    <tr>\n",
       "      <th rowspan=\"5\" valign=\"top\">2018-09-20</th>\n",
       "      <th>000aa7f0dc06cd7174389e76c9e132a67860c5f65f970699daccc14425ac31a8</th>\n",
       "      <td>0.042356</td>\n",
       "    </tr>\n",
       "    <tr>\n",
       "      <th>01c3653cafdd569ef34e36810d1c1bda71c0d425e568278d0cfe05cfb6604a1a</th>\n",
       "      <td>0.033881</td>\n",
       "    </tr>\n",
       "    <tr>\n",
       "      <th>01ef5256e6264e9d50b11a08e9cfb2f2291324fedb4140cf7b4ad070548ffd8f</th>\n",
       "      <td>0.008458</td>\n",
       "    </tr>\n",
       "    <tr>\n",
       "      <th>01f040495565a44cbee048d8a0340fe1ba46243565d634a9a574c69fa4b01ade</th>\n",
       "      <td>0.013542</td>\n",
       "    </tr>\n",
       "    <tr>\n",
       "      <th>01fbe7968ede05b116c4d878d47ed4fd33db355c4b3311c2967858f059a65dde</th>\n",
       "      <td>0.006763</td>\n",
       "    </tr>\n",
       "  </tbody>\n",
       "</table>\n",
       "</div>"
      ],
      "text/plain": [
       "                                                                  price\n",
       "t_dat      customer_id                                                 \n",
       "2018-09-20 000aa7f0dc06cd7174389e76c9e132a67860c5f65f97069...  0.042356\n",
       "           01c3653cafdd569ef34e36810d1c1bda71c0d425e568278...  0.033881\n",
       "           01ef5256e6264e9d50b11a08e9cfb2f2291324fedb4140c...  0.008458\n",
       "           01f040495565a44cbee048d8a0340fe1ba46243565d634a...  0.013542\n",
       "           01fbe7968ede05b116c4d878d47ed4fd33db355c4b3311c...  0.006763"
      ]
     },
     "execution_count": 81,
     "metadata": {},
     "output_type": "execute_result"
    }
   ],
   "source": [
    "purchase_amt_by_trans.head()"
   ]
  },
  {
   "cell_type": "code",
   "execution_count": 82,
   "metadata": {},
   "outputs": [],
   "source": [
    "amtAndArticles = art_by_trans.merge(purchase_amt_by_trans, on=['customer_id', 't_dat'])"
   ]
  },
  {
   "cell_type": "code",
   "execution_count": 83,
   "metadata": {},
   "outputs": [
    {
     "data": {
      "text/plain": [
       "1198730"
      ]
     },
     "execution_count": 83,
     "metadata": {},
     "output_type": "execute_result"
    }
   ],
   "source": [
    "amtAndArticles.size"
   ]
  },
  {
   "cell_type": "code",
   "execution_count": 84,
   "metadata": {},
   "outputs": [],
   "source": [
    "amtAndArticles.reset_index(inplace=True)"
   ]
  },
  {
   "cell_type": "code",
   "execution_count": 85,
   "metadata": {},
   "outputs": [
    {
     "data": {
      "text/plain": [
       "372254"
      ]
     },
     "execution_count": 85,
     "metadata": {},
     "output_type": "execute_result"
    }
   ],
   "source": [
    "amtAndArticles.customer_id.nunique()"
   ]
  },
  {
   "cell_type": "code",
   "execution_count": 86,
   "metadata": {},
   "outputs": [
    {
     "data": {
      "text/html": [
       "<div>\n",
       "<style scoped>\n",
       "    .dataframe tbody tr th:only-of-type {\n",
       "        vertical-align: middle;\n",
       "    }\n",
       "\n",
       "    .dataframe tbody tr th {\n",
       "        vertical-align: top;\n",
       "    }\n",
       "\n",
       "    .dataframe thead th {\n",
       "        text-align: right;\n",
       "    }\n",
       "</style>\n",
       "<table border=\"1\" class=\"dataframe\">\n",
       "  <thead>\n",
       "    <tr style=\"text-align: right;\">\n",
       "      <th></th>\n",
       "      <th>customer_id</th>\n",
       "      <th>t_dat</th>\n",
       "      <th>article_id</th>\n",
       "      <th>price</th>\n",
       "    </tr>\n",
       "  </thead>\n",
       "  <tbody>\n",
       "    <tr>\n",
       "      <th>0</th>\n",
       "      <td>000aa7f0dc06cd7174389e76c9e132a67860c5f65f9706...</td>\n",
       "      <td>2018-09-20</td>\n",
       "      <td>[676827002]</td>\n",
       "      <td>0.042356</td>\n",
       "    </tr>\n",
       "  </tbody>\n",
       "</table>\n",
       "</div>"
      ],
      "text/plain": [
       "                                         customer_id       t_dat   article_id  \\\n",
       "0  000aa7f0dc06cd7174389e76c9e132a67860c5f65f9706...  2018-09-20  [676827002]   \n",
       "\n",
       "      price  \n",
       "0  0.042356  "
      ]
     },
     "execution_count": 86,
     "metadata": {},
     "output_type": "execute_result"
    }
   ],
   "source": [
    "amtAndArticles.head(1)"
   ]
  },
  {
   "cell_type": "code",
   "execution_count": 87,
   "metadata": {},
   "outputs": [],
   "source": [
    "newTrans_df = amtAndArticles.merge(custTransSample, how='left', on=['t_dat', 'customer_id'])"
   ]
  },
  {
   "cell_type": "code",
   "execution_count": 88,
   "metadata": {},
   "outputs": [
    {
     "data": {
      "text/plain": [
       "8264958"
      ]
     },
     "execution_count": 88,
     "metadata": {},
     "output_type": "execute_result"
    }
   ],
   "source": [
    "newTrans_df.size"
   ]
  },
  {
   "cell_type": "code",
   "execution_count": 89,
   "metadata": {},
   "outputs": [
    {
     "data": {
      "text/html": [
       "<div>\n",
       "<style scoped>\n",
       "    .dataframe tbody tr th:only-of-type {\n",
       "        vertical-align: middle;\n",
       "    }\n",
       "\n",
       "    .dataframe tbody tr th {\n",
       "        vertical-align: top;\n",
       "    }\n",
       "\n",
       "    .dataframe thead th {\n",
       "        text-align: right;\n",
       "    }\n",
       "</style>\n",
       "<table border=\"1\" class=\"dataframe\">\n",
       "  <thead>\n",
       "    <tr style=\"text-align: right;\">\n",
       "      <th></th>\n",
       "      <th>customer_id</th>\n",
       "      <th>t_dat</th>\n",
       "      <th>article_id_x</th>\n",
       "      <th>price_x</th>\n",
       "      <th>article_id_y</th>\n",
       "      <th>price_y</th>\n",
       "      <th>sales_channel_id</th>\n",
       "      <th>FN</th>\n",
       "      <th>Active</th>\n",
       "      <th>club_member_status</th>\n",
       "      <th>fashion_news_frequency</th>\n",
       "      <th>age</th>\n",
       "      <th>postal_code</th>\n",
       "    </tr>\n",
       "  </thead>\n",
       "  <tbody>\n",
       "    <tr>\n",
       "      <th>0</th>\n",
       "      <td>000aa7f0dc06cd7174389e76c9e132a67860c5f65f9706...</td>\n",
       "      <td>2018-09-20</td>\n",
       "      <td>[676827002]</td>\n",
       "      <td>0.042356</td>\n",
       "      <td>676827002</td>\n",
       "      <td>0.042356</td>\n",
       "      <td>2</td>\n",
       "      <td>NaN</td>\n",
       "      <td>NaN</td>\n",
       "      <td>ACTIVE</td>\n",
       "      <td>NONE</td>\n",
       "      <td>22.0</td>\n",
       "      <td>6d98a3ca1370c33de04f4a0c2e81cd9c9e36d9501ca6dc...</td>\n",
       "    </tr>\n",
       "  </tbody>\n",
       "</table>\n",
       "</div>"
      ],
      "text/plain": [
       "                                         customer_id       t_dat article_id_x  \\\n",
       "0  000aa7f0dc06cd7174389e76c9e132a67860c5f65f9706...  2018-09-20  [676827002]   \n",
       "\n",
       "    price_x  article_id_y   price_y  sales_channel_id  FN  Active  \\\n",
       "0  0.042356     676827002  0.042356                 2 NaN     NaN   \n",
       "\n",
       "  club_member_status fashion_news_frequency   age  \\\n",
       "0             ACTIVE                   NONE  22.0   \n",
       "\n",
       "                                         postal_code  \n",
       "0  6d98a3ca1370c33de04f4a0c2e81cd9c9e36d9501ca6dc...  "
      ]
     },
     "execution_count": 89,
     "metadata": {},
     "output_type": "execute_result"
    }
   ],
   "source": [
    "newTrans_df.head(1)"
   ]
  },
  {
   "cell_type": "code",
   "execution_count": 90,
   "metadata": {},
   "outputs": [
    {
     "data": {
      "text/html": [
       "<div>\n",
       "<style scoped>\n",
       "    .dataframe tbody tr th:only-of-type {\n",
       "        vertical-align: middle;\n",
       "    }\n",
       "\n",
       "    .dataframe tbody tr th {\n",
       "        vertical-align: top;\n",
       "    }\n",
       "\n",
       "    .dataframe thead th {\n",
       "        text-align: right;\n",
       "    }\n",
       "</style>\n",
       "<table border=\"1\" class=\"dataframe\">\n",
       "  <thead>\n",
       "    <tr style=\"text-align: right;\">\n",
       "      <th></th>\n",
       "      <th>customer_id</th>\n",
       "      <th>t_dat</th>\n",
       "      <th>article_id_x</th>\n",
       "      <th>price_x</th>\n",
       "      <th>article_id_y</th>\n",
       "      <th>price_y</th>\n",
       "      <th>sales_channel_id</th>\n",
       "      <th>FN</th>\n",
       "      <th>Active</th>\n",
       "      <th>club_member_status</th>\n",
       "      <th>fashion_news_frequency</th>\n",
       "      <th>age</th>\n",
       "      <th>postal_code</th>\n",
       "    </tr>\n",
       "  </thead>\n",
       "  <tbody>\n",
       "    <tr>\n",
       "      <th>167</th>\n",
       "      <td>2e92e09284188387ce89fcb88e9b6954810cb2592ddaad...</td>\n",
       "      <td>2018-09-20</td>\n",
       "      <td>[667985001, 653590001, 551379001]</td>\n",
       "      <td>0.18639</td>\n",
       "      <td>667985001</td>\n",
       "      <td>0.033881</td>\n",
       "      <td>2</td>\n",
       "      <td>1.0</td>\n",
       "      <td>1.0</td>\n",
       "      <td>ACTIVE</td>\n",
       "      <td>Regularly</td>\n",
       "      <td>46.0</td>\n",
       "      <td>8d7ce90d7fed2b9cf7af40cbb9ec6fbad1d2b513414efc...</td>\n",
       "    </tr>\n",
       "    <tr>\n",
       "      <th>168</th>\n",
       "      <td>2e92e09284188387ce89fcb88e9b6954810cb2592ddaad...</td>\n",
       "      <td>2018-09-20</td>\n",
       "      <td>[667985001, 653590001, 551379001]</td>\n",
       "      <td>0.18639</td>\n",
       "      <td>653590001</td>\n",
       "      <td>0.101678</td>\n",
       "      <td>2</td>\n",
       "      <td>1.0</td>\n",
       "      <td>1.0</td>\n",
       "      <td>ACTIVE</td>\n",
       "      <td>Regularly</td>\n",
       "      <td>46.0</td>\n",
       "      <td>8d7ce90d7fed2b9cf7af40cbb9ec6fbad1d2b513414efc...</td>\n",
       "    </tr>\n",
       "    <tr>\n",
       "      <th>169</th>\n",
       "      <td>2e92e09284188387ce89fcb88e9b6954810cb2592ddaad...</td>\n",
       "      <td>2018-09-20</td>\n",
       "      <td>[667985001, 653590001, 551379001]</td>\n",
       "      <td>0.18639</td>\n",
       "      <td>551379001</td>\n",
       "      <td>0.050831</td>\n",
       "      <td>2</td>\n",
       "      <td>1.0</td>\n",
       "      <td>1.0</td>\n",
       "      <td>ACTIVE</td>\n",
       "      <td>Regularly</td>\n",
       "      <td>46.0</td>\n",
       "      <td>8d7ce90d7fed2b9cf7af40cbb9ec6fbad1d2b513414efc...</td>\n",
       "    </tr>\n",
       "  </tbody>\n",
       "</table>\n",
       "</div>"
      ],
      "text/plain": [
       "                                           customer_id       t_dat  \\\n",
       "167  2e92e09284188387ce89fcb88e9b6954810cb2592ddaad...  2018-09-20   \n",
       "168  2e92e09284188387ce89fcb88e9b6954810cb2592ddaad...  2018-09-20   \n",
       "169  2e92e09284188387ce89fcb88e9b6954810cb2592ddaad...  2018-09-20   \n",
       "\n",
       "                          article_id_x  price_x  article_id_y   price_y  \\\n",
       "167  [667985001, 653590001, 551379001]  0.18639     667985001  0.033881   \n",
       "168  [667985001, 653590001, 551379001]  0.18639     653590001  0.101678   \n",
       "169  [667985001, 653590001, 551379001]  0.18639     551379001  0.050831   \n",
       "\n",
       "     sales_channel_id   FN  Active club_member_status fashion_news_frequency  \\\n",
       "167                 2  1.0     1.0             ACTIVE              Regularly   \n",
       "168                 2  1.0     1.0             ACTIVE              Regularly   \n",
       "169                 2  1.0     1.0             ACTIVE              Regularly   \n",
       "\n",
       "      age                                        postal_code  \n",
       "167  46.0  8d7ce90d7fed2b9cf7af40cbb9ec6fbad1d2b513414efc...  \n",
       "168  46.0  8d7ce90d7fed2b9cf7af40cbb9ec6fbad1d2b513414efc...  \n",
       "169  46.0  8d7ce90d7fed2b9cf7af40cbb9ec6fbad1d2b513414efc...  "
      ]
     },
     "execution_count": 90,
     "metadata": {},
     "output_type": "execute_result"
    }
   ],
   "source": [
    "newTrans_df[newTrans_df['article_id_x'].map(len) > 2].head(3)"
   ]
  },
  {
   "cell_type": "code",
   "execution_count": 91,
   "metadata": {},
   "outputs": [],
   "source": [
    "newTrans = newTrans_df.drop(['article_id_y', 'price_y'], axis=1)"
   ]
  },
  {
   "cell_type": "code",
   "execution_count": 92,
   "metadata": {},
   "outputs": [
    {
     "data": {
      "text/html": [
       "<div>\n",
       "<style scoped>\n",
       "    .dataframe tbody tr th:only-of-type {\n",
       "        vertical-align: middle;\n",
       "    }\n",
       "\n",
       "    .dataframe tbody tr th {\n",
       "        vertical-align: top;\n",
       "    }\n",
       "\n",
       "    .dataframe thead th {\n",
       "        text-align: right;\n",
       "    }\n",
       "</style>\n",
       "<table border=\"1\" class=\"dataframe\">\n",
       "  <thead>\n",
       "    <tr style=\"text-align: right;\">\n",
       "      <th></th>\n",
       "      <th>customer_id</th>\n",
       "      <th>t_dat</th>\n",
       "      <th>article_id_x</th>\n",
       "      <th>price_x</th>\n",
       "      <th>sales_channel_id</th>\n",
       "      <th>FN</th>\n",
       "      <th>Active</th>\n",
       "      <th>club_member_status</th>\n",
       "      <th>fashion_news_frequency</th>\n",
       "      <th>age</th>\n",
       "      <th>postal_code</th>\n",
       "    </tr>\n",
       "  </thead>\n",
       "  <tbody>\n",
       "    <tr>\n",
       "      <th>0</th>\n",
       "      <td>000aa7f0dc06cd7174389e76c9e132a67860c5f65f9706...</td>\n",
       "      <td>2018-09-20</td>\n",
       "      <td>[676827002]</td>\n",
       "      <td>0.042356</td>\n",
       "      <td>2</td>\n",
       "      <td>NaN</td>\n",
       "      <td>NaN</td>\n",
       "      <td>ACTIVE</td>\n",
       "      <td>NONE</td>\n",
       "      <td>22.0</td>\n",
       "      <td>6d98a3ca1370c33de04f4a0c2e81cd9c9e36d9501ca6dc...</td>\n",
       "    </tr>\n",
       "  </tbody>\n",
       "</table>\n",
       "</div>"
      ],
      "text/plain": [
       "                                         customer_id       t_dat article_id_x  \\\n",
       "0  000aa7f0dc06cd7174389e76c9e132a67860c5f65f9706...  2018-09-20  [676827002]   \n",
       "\n",
       "    price_x  sales_channel_id  FN  Active club_member_status  \\\n",
       "0  0.042356                 2 NaN     NaN             ACTIVE   \n",
       "\n",
       "  fashion_news_frequency   age  \\\n",
       "0                   NONE  22.0   \n",
       "\n",
       "                                         postal_code  \n",
       "0  6d98a3ca1370c33de04f4a0c2e81cd9c9e36d9501ca6dc...  "
      ]
     },
     "execution_count": 92,
     "metadata": {},
     "output_type": "execute_result"
    }
   ],
   "source": [
    "newTrans.head(1)"
   ]
  },
  {
   "cell_type": "code",
   "execution_count": 93,
   "metadata": {},
   "outputs": [],
   "source": [
    "newTrans.rename(columns = {'article_id_x':'article_id', 'price_x':'price'}, inplace=True)"
   ]
  },
  {
   "cell_type": "code",
   "execution_count": 94,
   "metadata": {},
   "outputs": [
    {
     "data": {
      "text/html": [
       "<div>\n",
       "<style scoped>\n",
       "    .dataframe tbody tr th:only-of-type {\n",
       "        vertical-align: middle;\n",
       "    }\n",
       "\n",
       "    .dataframe tbody tr th {\n",
       "        vertical-align: top;\n",
       "    }\n",
       "\n",
       "    .dataframe thead th {\n",
       "        text-align: right;\n",
       "    }\n",
       "</style>\n",
       "<table border=\"1\" class=\"dataframe\">\n",
       "  <thead>\n",
       "    <tr style=\"text-align: right;\">\n",
       "      <th></th>\n",
       "      <th>customer_id</th>\n",
       "      <th>t_dat</th>\n",
       "      <th>article_id</th>\n",
       "      <th>price</th>\n",
       "      <th>sales_channel_id</th>\n",
       "      <th>FN</th>\n",
       "      <th>Active</th>\n",
       "      <th>club_member_status</th>\n",
       "      <th>fashion_news_frequency</th>\n",
       "      <th>age</th>\n",
       "      <th>postal_code</th>\n",
       "    </tr>\n",
       "  </thead>\n",
       "  <tbody>\n",
       "    <tr>\n",
       "      <th>0</th>\n",
       "      <td>000aa7f0dc06cd7174389e76c9e132a67860c5f65f9706...</td>\n",
       "      <td>2018-09-20</td>\n",
       "      <td>[676827002]</td>\n",
       "      <td>0.042356</td>\n",
       "      <td>2</td>\n",
       "      <td>NaN</td>\n",
       "      <td>NaN</td>\n",
       "      <td>ACTIVE</td>\n",
       "      <td>NONE</td>\n",
       "      <td>22.0</td>\n",
       "      <td>6d98a3ca1370c33de04f4a0c2e81cd9c9e36d9501ca6dc...</td>\n",
       "    </tr>\n",
       "  </tbody>\n",
       "</table>\n",
       "</div>"
      ],
      "text/plain": [
       "                                         customer_id       t_dat   article_id  \\\n",
       "0  000aa7f0dc06cd7174389e76c9e132a67860c5f65f9706...  2018-09-20  [676827002]   \n",
       "\n",
       "      price  sales_channel_id  FN  Active club_member_status  \\\n",
       "0  0.042356                 2 NaN     NaN             ACTIVE   \n",
       "\n",
       "  fashion_news_frequency   age  \\\n",
       "0                   NONE  22.0   \n",
       "\n",
       "                                         postal_code  \n",
       "0  6d98a3ca1370c33de04f4a0c2e81cd9c9e36d9501ca6dc...  "
      ]
     },
     "execution_count": 94,
     "metadata": {},
     "output_type": "execute_result"
    }
   ],
   "source": [
    "newTrans.head(1)"
   ]
  },
  {
   "cell_type": "code",
   "execution_count": 95,
   "metadata": {},
   "outputs": [
    {
     "data": {
      "text/plain": [
       "599365"
      ]
     },
     "execution_count": 95,
     "metadata": {},
     "output_type": "execute_result"
    }
   ],
   "source": [
    "len(newTrans.groupby(['t_dat', 'customer_id']).count())"
   ]
  },
  {
   "cell_type": "markdown",
   "metadata": {},
   "source": [
    "# Customer Age Distributions"
   ]
  },
  {
   "cell_type": "code",
   "execution_count": 96,
   "metadata": {},
   "outputs": [
    {
     "data": {
      "image/png": "[encoded data removed]",
      "text/plain": [
       "<Figure size 432x288 with 1 Axes>"
      ]
     },
     "metadata": {
      "needs_background": "light"
     },
     "output_type": "display_data"
    }
   ],
   "source": [
    "ax = newTrans.age.plot.hist();\n",
    "ax.set_title('Sample Set Age Dist');"
   ]
  },
  {
   "cell_type": "code",
   "execution_count": 97,
   "metadata": {},
   "outputs": [
    {
     "data": {
      "image/png": "[encoded data removed]",
      "text/plain": [
       "<Figure size 432x288 with 1 Axes>"
      ]
     },
     "metadata": {
      "needs_background": "light"
     },
     "output_type": "display_data"
    }
   ],
   "source": [
    "#graph for entire dataset - has 40-45 year olds more similar to number of 50-55yr olds. \n",
    "#Sample shows 40-45 year olds more similar to number of 35-40 year olds\n",
    "\n",
    "ax = custTrans_df.age.hist();\n",
    "ax.set_title('Full Set Age Dist');\n"
   ]
  },
  {
   "cell_type": "code",
   "execution_count": 98,
   "metadata": {},
   "outputs": [],
   "source": [
    "newTrans['bin'] = pd.cut(newTrans['age'], bins=30)"
   ]
  },
  {
   "cell_type": "code",
   "execution_count": 99,
   "metadata": {},
   "outputs": [
    {
     "data": {
      "image/png": "[encoded data removed]",
      "text/plain": [
       "<Figure size 432x288 with 1 Axes>"
      ]
     },
     "metadata": {
      "needs_background": "light"
     },
     "output_type": "display_data"
    }
   ],
   "source": [
    "newTrans.groupby('bin').bin.count().plot(kind='bar');"
   ]
  },
  {
   "cell_type": "code",
   "execution_count": 100,
   "metadata": {},
   "outputs": [
    {
     "data": {
      "image/png": "[encoded data removed]",
      "text/plain": [
       "<Figure size 432x288 with 1 Axes>"
      ]
     },
     "metadata": {
      "needs_background": "light"
     },
     "output_type": "display_data"
    }
   ],
   "source": [
    "newTrans.groupby('bin').price.sum().plot(kind='bar');"
   ]
  },
  {
   "cell_type": "code",
   "execution_count": 101,
   "metadata": {},
   "outputs": [
    {
     "data": {
      "text/plain": [
       "0        2018-09-20\n",
       "1        2018-09-20\n",
       "2        2018-09-20\n",
       "3        2018-09-20\n",
       "4        2018-09-20\n",
       "            ...    \n",
       "635761   2020-09-22\n",
       "635762   2020-09-22\n",
       "635763   2020-09-22\n",
       "635764   2020-09-22\n",
       "635765   2020-09-22\n",
       "Name: t_dat, Length: 635766, dtype: datetime64[ns]"
      ]
     },
     "execution_count": 101,
     "metadata": {},
     "output_type": "execute_result"
    }
   ],
   "source": [
    "pd.to_datetime(newTrans.t_dat)"
   ]
  },
  {
   "cell_type": "code",
   "execution_count": 102,
   "metadata": {},
   "outputs": [
    {
     "ename": "AttributeError",
     "evalue": "Can only use .dt accessor with datetimelike values",
     "output_type": "error",
     "traceback": [
      "\u001b[0;31m---------------------------------------------------------------------------\u001b[0m",
      "\u001b[0;31mAttributeError\u001b[0m                            Traceback (most recent call last)",
      "\u001b[0;32m<ipython-input-102-c5c9fc6cfd19>\u001b[0m in \u001b[0;36m<module>\u001b[0;34m\u001b[0m\n\u001b[0;32m----> 1\u001b[0;31m \u001b[0mnewTrans\u001b[0m\u001b[0;34m[\u001b[0m\u001b[0;34m'Day'\u001b[0m\u001b[0;34m]\u001b[0m \u001b[0;34m=\u001b[0m \u001b[0mnewTrans\u001b[0m\u001b[0;34m[\u001b[0m\u001b[0;34m't_dat'\u001b[0m\u001b[0;34m]\u001b[0m\u001b[0;34m.\u001b[0m\u001b[0mdt\u001b[0m\u001b[0;34m.\u001b[0m\u001b[0mday_name\u001b[0m\u001b[0;34m(\u001b[0m\u001b[0;34m)\u001b[0m\u001b[0;34m\u001b[0m\u001b[0;34m\u001b[0m\u001b[0m\n\u001b[0m",
      "\u001b[0;32m/opt/anaconda3/lib/python3.8/site-packages/pandas/core/generic.py\u001b[0m in \u001b[0;36m__getattr__\u001b[0;34m(self, name)\u001b[0m\n\u001b[1;32m   5133\u001b[0m             \u001b[0;32mor\u001b[0m \u001b[0mname\u001b[0m \u001b[0;32min\u001b[0m \u001b[0mself\u001b[0m\u001b[0;34m.\u001b[0m\u001b[0m_accessors\u001b[0m\u001b[0;34m\u001b[0m\u001b[0;34m\u001b[0m\u001b[0m\n\u001b[1;32m   5134\u001b[0m         ):\n\u001b[0;32m-> 5135\u001b[0;31m             \u001b[0;32mreturn\u001b[0m \u001b[0mobject\u001b[0m\u001b[0;34m.\u001b[0m\u001b[0m__getattribute__\u001b[0m\u001b[0;34m(\u001b[0m\u001b[0mself\u001b[0m\u001b[0;34m,\u001b[0m \u001b[0mname\u001b[0m\u001b[0;34m)\u001b[0m\u001b[0;34m\u001b[0m\u001b[0;34m\u001b[0m\u001b[0m\n\u001b[0m\u001b[1;32m   5136\u001b[0m         \u001b[0;32melse\u001b[0m\u001b[0;34m:\u001b[0m\u001b[0;34m\u001b[0m\u001b[0;34m\u001b[0m\u001b[0m\n\u001b[1;32m   5137\u001b[0m             \u001b[0;32mif\u001b[0m \u001b[0mself\u001b[0m\u001b[0;34m.\u001b[0m\u001b[0m_info_axis\u001b[0m\u001b[0;34m.\u001b[0m\u001b[0m_can_hold_identifiers_and_holds_name\u001b[0m\u001b[0;34m(\u001b[0m\u001b[0mname\u001b[0m\u001b[0;34m)\u001b[0m\u001b[0;34m:\u001b[0m\u001b[0;34m\u001b[0m\u001b[0;34m\u001b[0m\u001b[0m\n",
      "\u001b[0;32m/opt/anaconda3/lib/python3.8/site-packages/pandas/core/accessor.py\u001b[0m in \u001b[0;36m__get__\u001b[0;34m(self, obj, cls)\u001b[0m\n\u001b[1;32m    185\u001b[0m             \u001b[0;31m# we're accessing the attribute of the class, i.e., Dataset.geo\u001b[0m\u001b[0;34m\u001b[0m\u001b[0;34m\u001b[0m\u001b[0;34m\u001b[0m\u001b[0m\n\u001b[1;32m    186\u001b[0m             \u001b[0;32mreturn\u001b[0m \u001b[0mself\u001b[0m\u001b[0;34m.\u001b[0m\u001b[0m_accessor\u001b[0m\u001b[0;34m\u001b[0m\u001b[0;34m\u001b[0m\u001b[0m\n\u001b[0;32m--> 187\u001b[0;31m         \u001b[0maccessor_obj\u001b[0m \u001b[0;34m=\u001b[0m \u001b[0mself\u001b[0m\u001b[0;34m.\u001b[0m\u001b[0m_accessor\u001b[0m\u001b[0;34m(\u001b[0m\u001b[0mobj\u001b[0m\u001b[0;34m)\u001b[0m\u001b[0;34m\u001b[0m\u001b[0;34m\u001b[0m\u001b[0m\n\u001b[0m\u001b[1;32m    188\u001b[0m         \u001b[0;31m# Replace the property with the accessor object. Inspired by:\u001b[0m\u001b[0;34m\u001b[0m\u001b[0;34m\u001b[0m\u001b[0;34m\u001b[0m\u001b[0m\n\u001b[1;32m    189\u001b[0m         \u001b[0;31m# https://www.pydanny.com/cached-property.html\u001b[0m\u001b[0;34m\u001b[0m\u001b[0;34m\u001b[0m\u001b[0;34m\u001b[0m\u001b[0m\n",
      "\u001b[0;32m/opt/anaconda3/lib/python3.8/site-packages/pandas/core/indexes/accessors.py\u001b[0m in \u001b[0;36m__new__\u001b[0;34m(cls, data)\u001b[0m\n\u001b[1;32m    478\u001b[0m             \u001b[0;32mreturn\u001b[0m \u001b[0mPeriodProperties\u001b[0m\u001b[0;34m(\u001b[0m\u001b[0mdata\u001b[0m\u001b[0;34m,\u001b[0m \u001b[0morig\u001b[0m\u001b[0;34m)\u001b[0m\u001b[0;34m\u001b[0m\u001b[0;34m\u001b[0m\u001b[0m\n\u001b[1;32m    479\u001b[0m \u001b[0;34m\u001b[0m\u001b[0m\n\u001b[0;32m--> 480\u001b[0;31m         \u001b[0;32mraise\u001b[0m \u001b[0mAttributeError\u001b[0m\u001b[0;34m(\u001b[0m\u001b[0;34m\"Can only use .dt accessor with datetimelike values\"\u001b[0m\u001b[0;34m)\u001b[0m\u001b[0;34m\u001b[0m\u001b[0;34m\u001b[0m\u001b[0m\n\u001b[0m",
      "\u001b[0;31mAttributeError\u001b[0m: Can only use .dt accessor with datetimelike values"
     ]
    }
   ],
   "source": [
    "newTrans['Day'] = newTrans['t_dat'].dt.day_name()"
   ]
  },
  {
   "cell_type": "code",
   "execution_count": 103,
   "metadata": {},
   "outputs": [
    {
     "name": "stdout",
     "output_type": "stream",
     "text": [
      "<class 'pandas.core.frame.DataFrame'>\n",
      "Int64Index: 635766 entries, 0 to 635765\n",
      "Data columns (total 12 columns):\n",
      " #   Column                  Non-Null Count   Dtype   \n",
      "---  ------                  --------------   -----   \n",
      " 0   customer_id             635766 non-null  object  \n",
      " 1   t_dat                   635766 non-null  object  \n",
      " 2   article_id              635766 non-null  object  \n",
      " 3   price                   635766 non-null  float64 \n",
      " 4   sales_channel_id        635766 non-null  int64   \n",
      " 5   FN                      271461 non-null  float64 \n",
      " 6   Active                  267359 non-null  float64 \n",
      " 7   club_member_status      634529 non-null  object  \n",
      " 8   fashion_news_frequency  632888 non-null  object  \n",
      " 9   age                     632947 non-null  float64 \n",
      " 10  postal_code             635766 non-null  object  \n",
      " 11  bin                     632947 non-null  category\n",
      "dtypes: category(1), float64(4), int64(1), object(6)\n",
      "memory usage: 58.8+ MB\n"
     ]
    }
   ],
   "source": [
    "newTrans.info()"
   ]
  },
  {
   "cell_type": "code",
   "execution_count": null,
   "metadata": {},
   "outputs": [],
   "source": [
    "newTrans.groupby('customer', 'age')."
   ]
  },
  {
   "cell_type": "markdown",
   "metadata": {},
   "source": [
    "# use cosine similarity to see similarity btwn product_group_name\n",
    "Make recomendations based on that compared to previouse purchases"
   ]
  },
  {
   "cell_type": "markdown",
   "metadata": {},
   "source": [
    "# create list of dataframes for each product_group_name"
   ]
  },
  {
   "cell_type": "code",
   "execution_count": 47,
   "metadata": {},
   "outputs": [],
   "source": [
    "#create list of dataframes for each product_group_name\n",
    "def create_dfList(group_list, df):\n",
    "    df_dict = {}\n",
    "    for i in group_list:\n",
    "        df_dict[i+'_df'] = df[df['product_group_name'] == i]\n",
    "    return df_dict\n"
   ]
  },
  {
   "cell_type": "code",
   "execution_count": 48,
   "metadata": {},
   "outputs": [
    {
     "data": {
      "text/plain": [
       "28        2p Claw Hair clip Black Plastic hair claws. Wi...\n",
       "29        2p Claw Hair clip Greyish Beige Plastic hair c...\n",
       "30        2p Claw Hair clip Light Orange Plastic hair cl...\n",
       "31        2p Claw Hair clip Silver Plastic hair claws. W...\n",
       "32        2p Claw Hair clip Gold Plastic hair claws. Wid...\n",
       "                                ...                        \n",
       "105517    PQ Ingrid Longtip Belt Yellowish Brown Narrow ...\n",
       "105518    Cool Spiky earcuff pk Earring Silver Set with ...\n",
       "105519    Flirty Fries earcuff pk Earring Gold Set with ...\n",
       "105533    Compact brush Fancy Other accessories Other Pi...\n",
       "105540    CLAIRE HAIR CLAW Hair clip Black Large plastic...\n",
       "Name: combined, Length: 11158, dtype: object"
      ]
     },
     "execution_count": 48,
     "metadata": {},
     "output_type": "execute_result"
    }
   ],
   "source": [
    "newDic = create_dfList(groupNameList, articles_df)\n",
    "newDic['Accessories_df']['combined']"
   ]
  },
  {
   "cell_type": "markdown",
   "metadata": {},
   "source": [
    "# create Tfidf vectors for each product_group_name"
   ]
  },
  {
   "cell_type": "code",
   "execution_count": 49,
   "metadata": {},
   "outputs": [],
   "source": [
    "#create Tfidf vectors for each product_group_name\n",
    "from sklearn.feature_extraction.text import TfidfVectorizer\n",
    "def createTfidfTables(dfDict):\n",
    "    tfidf_dict = {}\n",
    "    vectorizer = TfidfVectorizer(min_df=2)\n",
    "    for s in dfDict:\n",
    "        vectorizer_data = vectorizer.fit_transform(dfDict[s]['combined'])\n",
    "        tfidf_dict[s+'_tdif'] = pd.DataFrame(vectorizer_data.toarray(), columns=vectorizer.get_feature_names())\n",
    "        tfidf_dict[s+'_tdif'].index = dfDict[s]['article_id']\n",
    "    return tfidf_dict"
   ]
  },
  {
   "cell_type": "code",
   "execution_count": 50,
   "metadata": {},
   "outputs": [],
   "source": [
    "tfidf_group_dfDic = createTfidfTables(newDic)"
   ]
  },
  {
   "cell_type": "code",
   "execution_count": 52,
   "metadata": {},
   "outputs": [],
   "source": [
    "#run cosine similarity without cleaning up the results first\n",
    "from sklearn.metrics.pairwise import cosine_similarity\n",
    "cosine_sim_array = cosine_similarity(tfidf_group_dfDic['Accessories_df_tdif'])"
   ]
  },
  {
   "cell_type": "code",
   "execution_count": 53,
   "metadata": {},
   "outputs": [],
   "source": [
    "cosine_sim_df = pd.DataFrame(cosine_sim_array, index=tfidf_group_dfDic['Accessories_df_tdif'].index, columns=tfidf_group_dfDic['Accessories_df_tdif'].index)"
   ]
  },
  {
   "cell_type": "code",
   "execution_count": 54,
   "metadata": {},
   "outputs": [
    {
     "data": {
      "text/html": [
       "<div>\n",
       "<style scoped>\n",
       "    .dataframe tbody tr th:only-of-type {\n",
       "        vertical-align: middle;\n",
       "    }\n",
       "\n",
       "    .dataframe tbody tr th {\n",
       "        vertical-align: top;\n",
       "    }\n",
       "\n",
       "    .dataframe thead th {\n",
       "        text-align: right;\n",
       "    }\n",
       "</style>\n",
       "<table border=\"1\" class=\"dataframe\">\n",
       "  <thead>\n",
       "    <tr style=\"text-align: right;\">\n",
       "      <th>article_id</th>\n",
       "      <th>126589006</th>\n",
       "      <th>126589007</th>\n",
       "      <th>126589010</th>\n",
       "      <th>126589011</th>\n",
       "      <th>126589012</th>\n",
       "      <th>146721001</th>\n",
       "      <th>146721002</th>\n",
       "      <th>176754001</th>\n",
       "      <th>176754003</th>\n",
       "      <th>176754019</th>\n",
       "      <th>...</th>\n",
       "      <th>946507001</th>\n",
       "      <th>946507002</th>\n",
       "      <th>946527001</th>\n",
       "      <th>947235001</th>\n",
       "      <th>947253001</th>\n",
       "      <th>947509001</th>\n",
       "      <th>947528001</th>\n",
       "      <th>947538001</th>\n",
       "      <th>950449002</th>\n",
       "      <th>957375001</th>\n",
       "    </tr>\n",
       "    <tr>\n",
       "      <th>article_id</th>\n",
       "      <th></th>\n",
       "      <th></th>\n",
       "      <th></th>\n",
       "      <th></th>\n",
       "      <th></th>\n",
       "      <th></th>\n",
       "      <th></th>\n",
       "      <th></th>\n",
       "      <th></th>\n",
       "      <th></th>\n",
       "      <th></th>\n",
       "      <th></th>\n",
       "      <th></th>\n",
       "      <th></th>\n",
       "      <th></th>\n",
       "      <th></th>\n",
       "      <th></th>\n",
       "      <th></th>\n",
       "      <th></th>\n",
       "      <th></th>\n",
       "      <th></th>\n",
       "    </tr>\n",
       "  </thead>\n",
       "  <tbody>\n",
       "    <tr>\n",
       "      <th>126589006</th>\n",
       "      <td>1.000000</td>\n",
       "      <td>0.813728</td>\n",
       "      <td>0.890322</td>\n",
       "      <td>0.903653</td>\n",
       "      <td>0.915251</td>\n",
       "      <td>0.301214</td>\n",
       "      <td>0.299476</td>\n",
       "      <td>0.099852</td>\n",
       "      <td>0.071646</td>\n",
       "      <td>0.073475</td>\n",
       "      <td>...</td>\n",
       "      <td>0.004379</td>\n",
       "      <td>0.004365</td>\n",
       "      <td>0.005562</td>\n",
       "      <td>0.225315</td>\n",
       "      <td>0.175369</td>\n",
       "      <td>0.043559</td>\n",
       "      <td>0.004920</td>\n",
       "      <td>0.005356</td>\n",
       "      <td>0.059002</td>\n",
       "      <td>0.634664</td>\n",
       "    </tr>\n",
       "    <tr>\n",
       "      <th>126589007</th>\n",
       "      <td>0.813728</td>\n",
       "      <td>1.000000</td>\n",
       "      <td>0.756191</td>\n",
       "      <td>0.767514</td>\n",
       "      <td>0.777365</td>\n",
       "      <td>0.250834</td>\n",
       "      <td>0.249387</td>\n",
       "      <td>0.057866</td>\n",
       "      <td>0.055222</td>\n",
       "      <td>0.056632</td>\n",
       "      <td>...</td>\n",
       "      <td>0.000000</td>\n",
       "      <td>0.000000</td>\n",
       "      <td>0.000000</td>\n",
       "      <td>0.188953</td>\n",
       "      <td>0.116508</td>\n",
       "      <td>0.032124</td>\n",
       "      <td>0.000000</td>\n",
       "      <td>0.000000</td>\n",
       "      <td>0.046095</td>\n",
       "      <td>0.512824</td>\n",
       "    </tr>\n",
       "    <tr>\n",
       "      <th>126589010</th>\n",
       "      <td>0.890322</td>\n",
       "      <td>0.756191</td>\n",
       "      <td>1.000000</td>\n",
       "      <td>0.918769</td>\n",
       "      <td>0.930561</td>\n",
       "      <td>0.274444</td>\n",
       "      <td>0.272861</td>\n",
       "      <td>0.063313</td>\n",
       "      <td>0.060420</td>\n",
       "      <td>0.137472</td>\n",
       "      <td>...</td>\n",
       "      <td>0.000000</td>\n",
       "      <td>0.000000</td>\n",
       "      <td>0.000000</td>\n",
       "      <td>0.206738</td>\n",
       "      <td>0.127475</td>\n",
       "      <td>0.035148</td>\n",
       "      <td>0.000000</td>\n",
       "      <td>0.000000</td>\n",
       "      <td>0.050433</td>\n",
       "      <td>0.561094</td>\n",
       "    </tr>\n",
       "    <tr>\n",
       "      <th>126589011</th>\n",
       "      <td>0.903653</td>\n",
       "      <td>0.767514</td>\n",
       "      <td>0.918769</td>\n",
       "      <td>1.000000</td>\n",
       "      <td>0.944494</td>\n",
       "      <td>0.278553</td>\n",
       "      <td>0.322551</td>\n",
       "      <td>0.064261</td>\n",
       "      <td>0.061325</td>\n",
       "      <td>0.062890</td>\n",
       "      <td>...</td>\n",
       "      <td>0.000000</td>\n",
       "      <td>0.034006</td>\n",
       "      <td>0.000000</td>\n",
       "      <td>0.232006</td>\n",
       "      <td>0.129383</td>\n",
       "      <td>0.035674</td>\n",
       "      <td>0.038325</td>\n",
       "      <td>0.000000</td>\n",
       "      <td>0.051189</td>\n",
       "      <td>0.569496</td>\n",
       "    </tr>\n",
       "    <tr>\n",
       "      <th>126589012</th>\n",
       "      <td>0.915251</td>\n",
       "      <td>0.777365</td>\n",
       "      <td>0.930561</td>\n",
       "      <td>0.944494</td>\n",
       "      <td>1.000000</td>\n",
       "      <td>0.311247</td>\n",
       "      <td>0.280501</td>\n",
       "      <td>0.065086</td>\n",
       "      <td>0.062112</td>\n",
       "      <td>0.063697</td>\n",
       "      <td>...</td>\n",
       "      <td>0.021657</td>\n",
       "      <td>0.000000</td>\n",
       "      <td>0.000000</td>\n",
       "      <td>0.212527</td>\n",
       "      <td>0.131044</td>\n",
       "      <td>0.036132</td>\n",
       "      <td>0.000000</td>\n",
       "      <td>0.026489</td>\n",
       "      <td>0.051846</td>\n",
       "      <td>0.576805</td>\n",
       "    </tr>\n",
       "  </tbody>\n",
       "</table>\n",
       "<p>5 rows × 11158 columns</p>\n",
       "</div>"
      ],
      "text/plain": [
       "article_id  126589006  126589007  126589010  126589011  126589012  146721001  \\\n",
       "article_id                                                                     \n",
       "126589006    1.000000   0.813728   0.890322   0.903653   0.915251   0.301214   \n",
       "126589007    0.813728   1.000000   0.756191   0.767514   0.777365   0.250834   \n",
       "126589010    0.890322   0.756191   1.000000   0.918769   0.930561   0.274444   \n",
       "126589011    0.903653   0.767514   0.918769   1.000000   0.944494   0.278553   \n",
       "126589012    0.915251   0.777365   0.930561   0.944494   1.000000   0.311247   \n",
       "\n",
       "article_id  146721002  176754001  176754003  176754019  ...  946507001  \\\n",
       "article_id                                              ...              \n",
       "126589006    0.299476   0.099852   0.071646   0.073475  ...   0.004379   \n",
       "126589007    0.249387   0.057866   0.055222   0.056632  ...   0.000000   \n",
       "126589010    0.272861   0.063313   0.060420   0.137472  ...   0.000000   \n",
       "126589011    0.322551   0.064261   0.061325   0.062890  ...   0.000000   \n",
       "126589012    0.280501   0.065086   0.062112   0.063697  ...   0.021657   \n",
       "\n",
       "article_id  946507002  946527001  947235001  947253001  947509001  947528001  \\\n",
       "article_id                                                                     \n",
       "126589006    0.004365   0.005562   0.225315   0.175369   0.043559   0.004920   \n",
       "126589007    0.000000   0.000000   0.188953   0.116508   0.032124   0.000000   \n",
       "126589010    0.000000   0.000000   0.206738   0.127475   0.035148   0.000000   \n",
       "126589011    0.034006   0.000000   0.232006   0.129383   0.035674   0.038325   \n",
       "126589012    0.000000   0.000000   0.212527   0.131044   0.036132   0.000000   \n",
       "\n",
       "article_id  947538001  950449002  957375001  \n",
       "article_id                                   \n",
       "126589006    0.005356   0.059002   0.634664  \n",
       "126589007    0.000000   0.046095   0.512824  \n",
       "126589010    0.000000   0.050433   0.561094  \n",
       "126589011    0.000000   0.051189   0.569496  \n",
       "126589012    0.026489   0.051846   0.576805  \n",
       "\n",
       "[5 rows x 11158 columns]"
      ]
     },
     "execution_count": 54,
     "metadata": {},
     "output_type": "execute_result"
    }
   ],
   "source": [
    "cosine_sim_df.head()"
   ]
  },
  {
   "cell_type": "markdown",
   "metadata": {},
   "source": [
    "# use cosine similarity to find items most similar within each product grouping"
   ]
  },
  {
   "cell_type": "code",
   "execution_count": 55,
   "metadata": {},
   "outputs": [
    {
     "data": {
      "text/plain": [
       "10          33.057065\n",
       "100          2.214164\n",
       "100x180      0.599737\n",
       "100x200      4.706925\n",
       "10p          5.013915\n",
       "              ...    \n",
       "zips         3.455678\n",
       "zitta       10.148316\n",
       "zlideon      0.675236\n",
       "zoe          3.905784\n",
       "örhängen     0.997825\n",
       "Length: 3588, dtype: float64"
      ]
     },
     "execution_count": 55,
     "metadata": {},
     "output_type": "execute_result"
    }
   ],
   "source": [
    "#pd.set_option(‘display.max_rows’, 134)\n",
    "df_sum = tfidf_group_dfDic['Accessories_df_tdif'].sum(axis=0)\n",
    "df_sum"
   ]
  },
  {
   "cell_type": "code",
   "execution_count": 57,
   "metadata": {},
   "outputs": [],
   "source": [
    "tfidf_trousers = articles_df[articles_df['product_group_name']=='Accessories']\n",
    "from sklearn.feature_extraction.text import TfidfVectorizer\n",
    "vectorizer = TfidfVectorizer(max_df=0.7, min_df=2)\n",
    "vectorizer_data = vectorizer.fit_transform(tfidf_trousers['combined'])"
   ]
  },
  {
   "cell_type": "code",
   "execution_count": 58,
   "metadata": {},
   "outputs": [],
   "source": [
    "tfidf_df_trousers = pd.DataFrame(vectorizer_data.toarray(), columns=vectorizer.get_feature_names())\n",
    "tfidf_df_trousers.index = tfidf_trousers['article_id']"
   ]
  },
  {
   "cell_type": "code",
   "execution_count": 59,
   "metadata": {},
   "outputs": [],
   "source": [
    "from scipy import sparse\n",
    "import numpy as np\n",
    "from scipy.sparse import csr_matrix\n",
    "cosine_similarity_array = cosine_similarity(tfidf_df_trousers)"
   ]
  },
  {
   "cell_type": "code",
   "execution_count": 60,
   "metadata": {},
   "outputs": [],
   "source": [
    "cosine_similarity_df = pd.DataFrame(cosine_similarity_array, index=tfidf_df_trousers.index, columns=tfidf_df_trousers.index)\n"
   ]
  },
  {
   "cell_type": "code",
   "execution_count": 61,
   "metadata": {},
   "outputs": [
    {
     "data": {
      "text/html": [
       "<div>\n",
       "<style scoped>\n",
       "    .dataframe tbody tr th:only-of-type {\n",
       "        vertical-align: middle;\n",
       "    }\n",
       "\n",
       "    .dataframe tbody tr th {\n",
       "        vertical-align: top;\n",
       "    }\n",
       "\n",
       "    .dataframe thead th {\n",
       "        text-align: right;\n",
       "    }\n",
       "</style>\n",
       "<table border=\"1\" class=\"dataframe\">\n",
       "  <thead>\n",
       "    <tr style=\"text-align: right;\">\n",
       "      <th>article_id</th>\n",
       "      <th>126589006</th>\n",
       "      <th>126589007</th>\n",
       "      <th>126589010</th>\n",
       "      <th>126589011</th>\n",
       "      <th>126589012</th>\n",
       "      <th>146721001</th>\n",
       "      <th>146721002</th>\n",
       "      <th>176754001</th>\n",
       "      <th>176754003</th>\n",
       "      <th>176754019</th>\n",
       "      <th>...</th>\n",
       "      <th>946507001</th>\n",
       "      <th>946507002</th>\n",
       "      <th>946527001</th>\n",
       "      <th>947235001</th>\n",
       "      <th>947253001</th>\n",
       "      <th>947509001</th>\n",
       "      <th>947528001</th>\n",
       "      <th>947538001</th>\n",
       "      <th>950449002</th>\n",
       "      <th>957375001</th>\n",
       "    </tr>\n",
       "    <tr>\n",
       "      <th>article_id</th>\n",
       "      <th></th>\n",
       "      <th></th>\n",
       "      <th></th>\n",
       "      <th></th>\n",
       "      <th></th>\n",
       "      <th></th>\n",
       "      <th></th>\n",
       "      <th></th>\n",
       "      <th></th>\n",
       "      <th></th>\n",
       "      <th></th>\n",
       "      <th></th>\n",
       "      <th></th>\n",
       "      <th></th>\n",
       "      <th></th>\n",
       "      <th></th>\n",
       "      <th></th>\n",
       "      <th></th>\n",
       "      <th></th>\n",
       "      <th></th>\n",
       "      <th></th>\n",
       "    </tr>\n",
       "  </thead>\n",
       "  <tbody>\n",
       "    <tr>\n",
       "      <th>126589006</th>\n",
       "      <td>1.000000</td>\n",
       "      <td>0.813728</td>\n",
       "      <td>0.890322</td>\n",
       "      <td>0.903653</td>\n",
       "      <td>0.915251</td>\n",
       "      <td>0.301214</td>\n",
       "      <td>0.299476</td>\n",
       "      <td>0.100064</td>\n",
       "      <td>0.071785</td>\n",
       "      <td>0.073624</td>\n",
       "      <td>...</td>\n",
       "      <td>0.004379</td>\n",
       "      <td>0.004365</td>\n",
       "      <td>0.005593</td>\n",
       "      <td>0.225395</td>\n",
       "      <td>0.175369</td>\n",
       "      <td>0.043622</td>\n",
       "      <td>0.004941</td>\n",
       "      <td>0.005383</td>\n",
       "      <td>0.059060</td>\n",
       "      <td>0.634664</td>\n",
       "    </tr>\n",
       "    <tr>\n",
       "      <th>126589007</th>\n",
       "      <td>0.813728</td>\n",
       "      <td>1.000000</td>\n",
       "      <td>0.756191</td>\n",
       "      <td>0.767514</td>\n",
       "      <td>0.777365</td>\n",
       "      <td>0.250834</td>\n",
       "      <td>0.249387</td>\n",
       "      <td>0.057989</td>\n",
       "      <td>0.055329</td>\n",
       "      <td>0.056747</td>\n",
       "      <td>...</td>\n",
       "      <td>0.000000</td>\n",
       "      <td>0.000000</td>\n",
       "      <td>0.000000</td>\n",
       "      <td>0.189020</td>\n",
       "      <td>0.116508</td>\n",
       "      <td>0.032170</td>\n",
       "      <td>0.000000</td>\n",
       "      <td>0.000000</td>\n",
       "      <td>0.046140</td>\n",
       "      <td>0.512824</td>\n",
       "    </tr>\n",
       "    <tr>\n",
       "      <th>126589010</th>\n",
       "      <td>0.890322</td>\n",
       "      <td>0.756191</td>\n",
       "      <td>1.000000</td>\n",
       "      <td>0.918769</td>\n",
       "      <td>0.930561</td>\n",
       "      <td>0.274444</td>\n",
       "      <td>0.272861</td>\n",
       "      <td>0.063447</td>\n",
       "      <td>0.060537</td>\n",
       "      <td>0.137751</td>\n",
       "      <td>...</td>\n",
       "      <td>0.000000</td>\n",
       "      <td>0.000000</td>\n",
       "      <td>0.000000</td>\n",
       "      <td>0.206811</td>\n",
       "      <td>0.127475</td>\n",
       "      <td>0.035198</td>\n",
       "      <td>0.000000</td>\n",
       "      <td>0.000000</td>\n",
       "      <td>0.050483</td>\n",
       "      <td>0.561094</td>\n",
       "    </tr>\n",
       "    <tr>\n",
       "      <th>126589011</th>\n",
       "      <td>0.903653</td>\n",
       "      <td>0.767514</td>\n",
       "      <td>0.918769</td>\n",
       "      <td>1.000000</td>\n",
       "      <td>0.944494</td>\n",
       "      <td>0.278553</td>\n",
       "      <td>0.322551</td>\n",
       "      <td>0.064397</td>\n",
       "      <td>0.061443</td>\n",
       "      <td>0.063018</td>\n",
       "      <td>...</td>\n",
       "      <td>0.000000</td>\n",
       "      <td>0.034006</td>\n",
       "      <td>0.000000</td>\n",
       "      <td>0.232088</td>\n",
       "      <td>0.129383</td>\n",
       "      <td>0.035725</td>\n",
       "      <td>0.038489</td>\n",
       "      <td>0.000000</td>\n",
       "      <td>0.051239</td>\n",
       "      <td>0.569496</td>\n",
       "    </tr>\n",
       "    <tr>\n",
       "      <th>126589012</th>\n",
       "      <td>0.915251</td>\n",
       "      <td>0.777365</td>\n",
       "      <td>0.930561</td>\n",
       "      <td>0.944494</td>\n",
       "      <td>1.000000</td>\n",
       "      <td>0.311247</td>\n",
       "      <td>0.280501</td>\n",
       "      <td>0.065223</td>\n",
       "      <td>0.062232</td>\n",
       "      <td>0.063827</td>\n",
       "      <td>...</td>\n",
       "      <td>0.021657</td>\n",
       "      <td>0.000000</td>\n",
       "      <td>0.000000</td>\n",
       "      <td>0.212602</td>\n",
       "      <td>0.131044</td>\n",
       "      <td>0.036184</td>\n",
       "      <td>0.000000</td>\n",
       "      <td>0.026623</td>\n",
       "      <td>0.051896</td>\n",
       "      <td>0.576805</td>\n",
       "    </tr>\n",
       "    <tr>\n",
       "      <th>...</th>\n",
       "      <td>...</td>\n",
       "      <td>...</td>\n",
       "      <td>...</td>\n",
       "      <td>...</td>\n",
       "      <td>...</td>\n",
       "      <td>...</td>\n",
       "      <td>...</td>\n",
       "      <td>...</td>\n",
       "      <td>...</td>\n",
       "      <td>...</td>\n",
       "      <td>...</td>\n",
       "      <td>...</td>\n",
       "      <td>...</td>\n",
       "      <td>...</td>\n",
       "      <td>...</td>\n",
       "      <td>...</td>\n",
       "      <td>...</td>\n",
       "      <td>...</td>\n",
       "      <td>...</td>\n",
       "      <td>...</td>\n",
       "      <td>...</td>\n",
       "    </tr>\n",
       "    <tr>\n",
       "      <th>947509001</th>\n",
       "      <td>0.043622</td>\n",
       "      <td>0.032170</td>\n",
       "      <td>0.035198</td>\n",
       "      <td>0.035725</td>\n",
       "      <td>0.036184</td>\n",
       "      <td>0.022129</td>\n",
       "      <td>0.022002</td>\n",
       "      <td>0.028022</td>\n",
       "      <td>0.119094</td>\n",
       "      <td>0.027422</td>\n",
       "      <td>...</td>\n",
       "      <td>0.071044</td>\n",
       "      <td>0.070817</td>\n",
       "      <td>0.088120</td>\n",
       "      <td>0.060844</td>\n",
       "      <td>0.045076</td>\n",
       "      <td>1.000000</td>\n",
       "      <td>0.065495</td>\n",
       "      <td>0.067925</td>\n",
       "      <td>0.007892</td>\n",
       "      <td>0.004230</td>\n",
       "    </tr>\n",
       "    <tr>\n",
       "      <th>947528001</th>\n",
       "      <td>0.004941</td>\n",
       "      <td>0.000000</td>\n",
       "      <td>0.000000</td>\n",
       "      <td>0.038489</td>\n",
       "      <td>0.000000</td>\n",
       "      <td>0.051727</td>\n",
       "      <td>0.077443</td>\n",
       "      <td>0.036372</td>\n",
       "      <td>0.034704</td>\n",
       "      <td>0.035593</td>\n",
       "      <td>...</td>\n",
       "      <td>0.738297</td>\n",
       "      <td>0.755330</td>\n",
       "      <td>0.081811</td>\n",
       "      <td>0.065009</td>\n",
       "      <td>0.013693</td>\n",
       "      <td>0.065495</td>\n",
       "      <td>1.000000</td>\n",
       "      <td>0.627876</td>\n",
       "      <td>0.022155</td>\n",
       "      <td>0.003638</td>\n",
       "    </tr>\n",
       "    <tr>\n",
       "      <th>947538001</th>\n",
       "      <td>0.005383</td>\n",
       "      <td>0.000000</td>\n",
       "      <td>0.000000</td>\n",
       "      <td>0.000000</td>\n",
       "      <td>0.026623</td>\n",
       "      <td>0.065323</td>\n",
       "      <td>0.047180</td>\n",
       "      <td>0.029100</td>\n",
       "      <td>0.027765</td>\n",
       "      <td>0.028476</td>\n",
       "      <td>...</td>\n",
       "      <td>0.502502</td>\n",
       "      <td>0.487645</td>\n",
       "      <td>0.053232</td>\n",
       "      <td>0.038828</td>\n",
       "      <td>0.009911</td>\n",
       "      <td>0.067925</td>\n",
       "      <td>0.627876</td>\n",
       "      <td>1.000000</td>\n",
       "      <td>0.024141</td>\n",
       "      <td>0.003964</td>\n",
       "    </tr>\n",
       "    <tr>\n",
       "      <th>950449002</th>\n",
       "      <td>0.059060</td>\n",
       "      <td>0.046140</td>\n",
       "      <td>0.050483</td>\n",
       "      <td>0.051239</td>\n",
       "      <td>0.051896</td>\n",
       "      <td>0.182929</td>\n",
       "      <td>0.181873</td>\n",
       "      <td>0.021194</td>\n",
       "      <td>0.020222</td>\n",
       "      <td>0.020740</td>\n",
       "      <td>...</td>\n",
       "      <td>0.002258</td>\n",
       "      <td>0.002251</td>\n",
       "      <td>0.043951</td>\n",
       "      <td>0.184175</td>\n",
       "      <td>0.032641</td>\n",
       "      <td>0.007892</td>\n",
       "      <td>0.022155</td>\n",
       "      <td>0.024141</td>\n",
       "      <td>1.000000</td>\n",
       "      <td>0.054784</td>\n",
       "    </tr>\n",
       "    <tr>\n",
       "      <th>957375001</th>\n",
       "      <td>0.634664</td>\n",
       "      <td>0.512824</td>\n",
       "      <td>0.561094</td>\n",
       "      <td>0.569496</td>\n",
       "      <td>0.576805</td>\n",
       "      <td>0.306827</td>\n",
       "      <td>0.305057</td>\n",
       "      <td>0.098812</td>\n",
       "      <td>0.076838</td>\n",
       "      <td>0.078807</td>\n",
       "      <td>...</td>\n",
       "      <td>0.003224</td>\n",
       "      <td>0.003214</td>\n",
       "      <td>0.004118</td>\n",
       "      <td>0.155390</td>\n",
       "      <td>0.118725</td>\n",
       "      <td>0.004230</td>\n",
       "      <td>0.003638</td>\n",
       "      <td>0.003964</td>\n",
       "      <td>0.054784</td>\n",
       "      <td>1.000000</td>\n",
       "    </tr>\n",
       "  </tbody>\n",
       "</table>\n",
       "<p>11158 rows × 11158 columns</p>\n",
       "</div>"
      ],
      "text/plain": [
       "article_id  126589006  126589007  126589010  126589011  126589012  146721001  \\\n",
       "article_id                                                                     \n",
       "126589006    1.000000   0.813728   0.890322   0.903653   0.915251   0.301214   \n",
       "126589007    0.813728   1.000000   0.756191   0.767514   0.777365   0.250834   \n",
       "126589010    0.890322   0.756191   1.000000   0.918769   0.930561   0.274444   \n",
       "126589011    0.903653   0.767514   0.918769   1.000000   0.944494   0.278553   \n",
       "126589012    0.915251   0.777365   0.930561   0.944494   1.000000   0.311247   \n",
       "...               ...        ...        ...        ...        ...        ...   \n",
       "947509001    0.043622   0.032170   0.035198   0.035725   0.036184   0.022129   \n",
       "947528001    0.004941   0.000000   0.000000   0.038489   0.000000   0.051727   \n",
       "947538001    0.005383   0.000000   0.000000   0.000000   0.026623   0.065323   \n",
       "950449002    0.059060   0.046140   0.050483   0.051239   0.051896   0.182929   \n",
       "957375001    0.634664   0.512824   0.561094   0.569496   0.576805   0.306827   \n",
       "\n",
       "article_id  146721002  176754001  176754003  176754019  ...  946507001  \\\n",
       "article_id                                              ...              \n",
       "126589006    0.299476   0.100064   0.071785   0.073624  ...   0.004379   \n",
       "126589007    0.249387   0.057989   0.055329   0.056747  ...   0.000000   \n",
       "126589010    0.272861   0.063447   0.060537   0.137751  ...   0.000000   \n",
       "126589011    0.322551   0.064397   0.061443   0.063018  ...   0.000000   \n",
       "126589012    0.280501   0.065223   0.062232   0.063827  ...   0.021657   \n",
       "...               ...        ...        ...        ...  ...        ...   \n",
       "947509001    0.022002   0.028022   0.119094   0.027422  ...   0.071044   \n",
       "947528001    0.077443   0.036372   0.034704   0.035593  ...   0.738297   \n",
       "947538001    0.047180   0.029100   0.027765   0.028476  ...   0.502502   \n",
       "950449002    0.181873   0.021194   0.020222   0.020740  ...   0.002258   \n",
       "957375001    0.305057   0.098812   0.076838   0.078807  ...   0.003224   \n",
       "\n",
       "article_id  946507002  946527001  947235001  947253001  947509001  947528001  \\\n",
       "article_id                                                                     \n",
       "126589006    0.004365   0.005593   0.225395   0.175369   0.043622   0.004941   \n",
       "126589007    0.000000   0.000000   0.189020   0.116508   0.032170   0.000000   \n",
       "126589010    0.000000   0.000000   0.206811   0.127475   0.035198   0.000000   \n",
       "126589011    0.034006   0.000000   0.232088   0.129383   0.035725   0.038489   \n",
       "126589012    0.000000   0.000000   0.212602   0.131044   0.036184   0.000000   \n",
       "...               ...        ...        ...        ...        ...        ...   \n",
       "947509001    0.070817   0.088120   0.060844   0.045076   1.000000   0.065495   \n",
       "947528001    0.755330   0.081811   0.065009   0.013693   0.065495   1.000000   \n",
       "947538001    0.487645   0.053232   0.038828   0.009911   0.067925   0.627876   \n",
       "950449002    0.002251   0.043951   0.184175   0.032641   0.007892   0.022155   \n",
       "957375001    0.003214   0.004118   0.155390   0.118725   0.004230   0.003638   \n",
       "\n",
       "article_id  947538001  950449002  957375001  \n",
       "article_id                                   \n",
       "126589006    0.005383   0.059060   0.634664  \n",
       "126589007    0.000000   0.046140   0.512824  \n",
       "126589010    0.000000   0.050483   0.561094  \n",
       "126589011    0.000000   0.051239   0.569496  \n",
       "126589012    0.026623   0.051896   0.576805  \n",
       "...               ...        ...        ...  \n",
       "947509001    0.067925   0.007892   0.004230  \n",
       "947528001    0.627876   0.022155   0.003638  \n",
       "947538001    1.000000   0.024141   0.003964  \n",
       "950449002    0.024141   1.000000   0.054784  \n",
       "957375001    0.003964   0.054784   1.000000  \n",
       "\n",
       "[11158 rows x 11158 columns]"
      ]
     },
     "execution_count": 61,
     "metadata": {},
     "output_type": "execute_result"
    }
   ],
   "source": [
    "cosine_similarity_df"
   ]
  },
  {
   "cell_type": "code",
   "execution_count": 62,
   "metadata": {},
   "outputs": [],
   "source": [
    "cosine_sim_series = cosine_similarity_df.loc[126589006]\n",
    "ordered_sim = cosine_sim_series.sort_values(ascending=False)"
   ]
  },
  {
   "cell_type": "code",
   "execution_count": 63,
   "metadata": {},
   "outputs": [
    {
     "data": {
      "text/plain": [
       "article_id\n",
       "126589006    1.000000\n",
       "736213001    1.000000\n",
       "126589012    0.915251\n",
       "126589011    0.903653\n",
       "126589010    0.890322\n",
       "               ...   \n",
       "804560001    0.000000\n",
       "731527001    0.000000\n",
       "804556001    0.000000\n",
       "731528001    0.000000\n",
       "710695014    0.000000\n",
       "Name: 126589006, Length: 11158, dtype: float64"
      ]
     },
     "execution_count": 63,
     "metadata": {},
     "output_type": "execute_result"
    }
   ],
   "source": [
    "ordered_sim"
   ]
  },
  {
   "cell_type": "code",
   "execution_count": 64,
   "metadata": {},
   "outputs": [
    {
     "data": {
      "text/html": [
       "<div>\n",
       "<style scoped>\n",
       "    .dataframe tbody tr th:only-of-type {\n",
       "        vertical-align: middle;\n",
       "    }\n",
       "\n",
       "    .dataframe tbody tr th {\n",
       "        vertical-align: top;\n",
       "    }\n",
       "\n",
       "    .dataframe thead th {\n",
       "        text-align: right;\n",
       "    }\n",
       "</style>\n",
       "<table border=\"1\" class=\"dataframe\">\n",
       "  <thead>\n",
       "    <tr style=\"text-align: right;\">\n",
       "      <th></th>\n",
       "      <th>article_id</th>\n",
       "      <th>product_code</th>\n",
       "      <th>prod_name</th>\n",
       "      <th>product_type_no</th>\n",
       "      <th>product_type_name</th>\n",
       "      <th>product_group_name</th>\n",
       "      <th>graphical_appearance_no</th>\n",
       "      <th>graphical_appearance_name</th>\n",
       "      <th>colour_group_code</th>\n",
       "      <th>colour_group_name</th>\n",
       "      <th>...</th>\n",
       "      <th>index_code</th>\n",
       "      <th>index_name</th>\n",
       "      <th>index_group_no</th>\n",
       "      <th>index_group_name</th>\n",
       "      <th>section_no</th>\n",
       "      <th>section_name</th>\n",
       "      <th>garment_group_no</th>\n",
       "      <th>garment_group_name</th>\n",
       "      <th>detail_desc</th>\n",
       "      <th>combined</th>\n",
       "    </tr>\n",
       "  </thead>\n",
       "  <tbody>\n",
       "    <tr>\n",
       "      <th>28</th>\n",
       "      <td>126589006</td>\n",
       "      <td>126589</td>\n",
       "      <td>2p Claw</td>\n",
       "      <td>72</td>\n",
       "      <td>Hair clip</td>\n",
       "      <td>Accessories</td>\n",
       "      <td>1010016</td>\n",
       "      <td>Solid</td>\n",
       "      <td>9</td>\n",
       "      <td>Black</td>\n",
       "      <td>...</td>\n",
       "      <td>C</td>\n",
       "      <td>Ladies Accessories</td>\n",
       "      <td>1</td>\n",
       "      <td>Ladieswear</td>\n",
       "      <td>66</td>\n",
       "      <td>Womens Small accessories</td>\n",
       "      <td>1019</td>\n",
       "      <td>Accessories</td>\n",
       "      <td>Plastic hair claws. Width 3.5 cm.</td>\n",
       "      <td>2p Claw Hair clip Black Plastic hair claws. Wi...</td>\n",
       "    </tr>\n",
       "    <tr>\n",
       "      <th>62423</th>\n",
       "      <td>736213001</td>\n",
       "      <td>736213</td>\n",
       "      <td>2p claw 2</td>\n",
       "      <td>72</td>\n",
       "      <td>Hair clip</td>\n",
       "      <td>Accessories</td>\n",
       "      <td>1010016</td>\n",
       "      <td>Solid</td>\n",
       "      <td>9</td>\n",
       "      <td>Black</td>\n",
       "      <td>...</td>\n",
       "      <td>C</td>\n",
       "      <td>Ladies Accessories</td>\n",
       "      <td>1</td>\n",
       "      <td>Ladieswear</td>\n",
       "      <td>66</td>\n",
       "      <td>Womens Small accessories</td>\n",
       "      <td>1019</td>\n",
       "      <td>Accessories</td>\n",
       "      <td>Plastic hair claws. Width 3.5 cm.</td>\n",
       "      <td>2p claw 2 Hair clip Black Plastic hair claws. ...</td>\n",
       "    </tr>\n",
       "  </tbody>\n",
       "</table>\n",
       "<p>2 rows × 26 columns</p>\n",
       "</div>"
      ],
      "text/plain": [
       "       article_id  product_code  prod_name  product_type_no product_type_name  \\\n",
       "28      126589006        126589    2p Claw               72         Hair clip   \n",
       "62423   736213001        736213  2p claw 2               72         Hair clip   \n",
       "\n",
       "      product_group_name  graphical_appearance_no graphical_appearance_name  \\\n",
       "28           Accessories                  1010016                     Solid   \n",
       "62423        Accessories                  1010016                     Solid   \n",
       "\n",
       "       colour_group_code colour_group_name  ...  index_code  \\\n",
       "28                     9             Black  ...           C   \n",
       "62423                  9             Black  ...           C   \n",
       "\n",
       "               index_name  index_group_no index_group_name  section_no  \\\n",
       "28     Ladies Accessories               1       Ladieswear          66   \n",
       "62423  Ladies Accessories               1       Ladieswear          66   \n",
       "\n",
       "                   section_name garment_group_no garment_group_name  \\\n",
       "28     Womens Small accessories             1019        Accessories   \n",
       "62423  Womens Small accessories             1019        Accessories   \n",
       "\n",
       "                             detail_desc  \\\n",
       "28     Plastic hair claws. Width 3.5 cm.   \n",
       "62423  Plastic hair claws. Width 3.5 cm.   \n",
       "\n",
       "                                                combined  \n",
       "28     2p Claw Hair clip Black Plastic hair claws. Wi...  \n",
       "62423  2p claw 2 Hair clip Black Plastic hair claws. ...  \n",
       "\n",
       "[2 rows x 26 columns]"
      ]
     },
     "execution_count": 64,
     "metadata": {},
     "output_type": "execute_result"
    }
   ],
   "source": [
    "articles_df[(articles_df['article_id']==736213001)|(articles_df['article_id']==126589006)]"
   ]
  },
  {
   "cell_type": "markdown",
   "metadata": {},
   "source": [
    "newTrans.groupby('Day').bin.count().plot(kind='bar');"
   ]
  }
 ],
 "metadata": {
  "kernelspec": {
   "display_name": "Python 3 (ipykernel)",
   "language": "python",
   "name": "python3"
  },
  "language_info": {
   "codemirror_mode": {
    "name": "ipython",
    "version": 3
   },
   "file_extension": ".py",
   "mimetype": "text/x-python",
   "name": "python",
   "nbconvert_exporter": "python",
   "pygments_lexer": "ipython3",
   "version": "3.11.3"
  }
 },
 "nbformat": 4,
 "nbformat_minor": 4
}
